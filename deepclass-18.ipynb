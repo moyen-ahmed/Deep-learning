{
 "cells": [
  {
   "cell_type": "code",
   "execution_count": 1,
   "id": "45205988",
   "metadata": {},
   "outputs": [],
   "source": [
    "import torch\n",
    "import numpy as np\n",
    "\n",
    "import matplotlib.pyplot as plt"
   ]
  },
  {
   "cell_type": "code",
   "execution_count": null,
   "id": "7bae02f3",
   "metadata": {},
   "outputs": [
    {
     "name": "stdout",
     "output_type": "stream",
     "text": [
      "(13,)\n",
      "(13, 1)\n"
     ]
    }
   ],
   "source": [
    "Age_of_students = [18,19,20,21,22,23,24,25,26,27,28,29,30]\n",
    "age_of_students = np.array(Age_of_students)\n",
    "print(age_of_students.shape)\n",
    "age_of_students_b=np.expand_dims(age_of_students,1)\n",
    "print(age_of_students_b.shape) "
   ]
  },
  {
   "cell_type": "code",
   "execution_count": 6,
   "id": "316ae348",
   "metadata": {},
   "outputs": [
    {
     "name": "stdout",
     "output_type": "stream",
     "text": [
      "['18' '19' '20' '21' '22' '23' '24' '25' '26' '27' '28' '29' '30' 'Abc'\n",
      " 'Def' 'Ghi' 'Jkl' 'Mno' 'Pqr' 'Stu' 'Vwx' 'Yza' 'Bcd' 'Efg' 'Hij' 'Klm']\n"
     ]
    }
   ],
   "source": [
    "Age_of_students = [18,19,20,21,22,23,24,25,26,27,28,29,30]\n",
    "Name_of_students = ['Abc','Def','Ghi','Jkl','Mno','Pqr','Stu','Vwx','Yza','Bcd','Efg','Hij','Klm']\n",
    "database=np.concatenate([Age_of_students,Name_of_students])\n",
    "print(database)"
   ]
  },
  {
   "cell_type": "code",
   "execution_count": 3,
   "id": "7b0aea2e",
   "metadata": {},
   "outputs": [
    {
     "name": "stdout",
     "output_type": "stream",
     "text": [
      "(2, 4)\n",
      "(100, 2, 4)\n"
     ]
    }
   ],
   "source": [
    "two_d=np.random.rand(2,4)\n",
    "print(two_d.shape)\n",
    "bag_dat=[]\n",
    "for i in range(100):\n",
    "    bag_dat.append(np.random.rand(2,4))\n",
    "    \n",
    "bag_dat=np.array(bag_dat)    \n",
    "print(bag_dat.shape)"
   ]
  },
  {
   "cell_type": "code",
   "execution_count": 9,
   "id": "8227694d",
   "metadata": {},
   "outputs": [
    {
     "name": "stdout",
     "output_type": "stream",
     "text": [
      "(8, 8, 3)\n",
      "(100, 8, 8, 3)\n",
      "(4, 25, 8, 8, 3)\n"
     ]
    }
   ],
   "source": [
    "ch1,ch2=8,8\n",
    "three_d=np.random.rand(ch1,ch2,3)\n",
    "print(three_d.shape)\n",
    "\n",
    "gallery=[]\n",
    "for i in range(100):\n",
    "    gallery.append(np.random.rand(ch1,ch2,3))\n",
    "    \n",
    "    \n",
    "gallery=np.array(gallery)    \n",
    "print(gallery.shape)  \n",
    "\n",
    "min_gallery=np.reshape(gallery,[4,25,ch1,ch2,3]) \n",
    "print(min_gallery.shape) \n"
   ]
  },
  {
   "cell_type": "code",
   "execution_count": 5,
   "id": "7db90798",
   "metadata": {},
   "outputs": [
    {
     "data": {
      "text/plain": [
       "<matplotlib.image.AxesImage at 0x1978a052180>"
      ]
     },
     "execution_count": 5,
     "metadata": {},
     "output_type": "execute_result"
    },
    {
     "data": {
      "image/png": "[encoded data removed]",
      "text/plain": [
       "<Figure size 640x480 with 1 Axes>"
      ]
     },
     "metadata": {},
     "output_type": "display_data"
    }
   ],
   "source": [
    "plt.imshow(three_d)"
   ]
  }
 ],
 "metadata": {
  "kernelspec": {
   "display_name": "base",
   "language": "python",
   "name": "python3"
  },
  "language_info": {
   "codemirror_mode": {
    "name": "ipython",
    "version": 3
   },
   "file_extension": ".py",
   "mimetype": "text/x-python",
   "name": "python",
   "nbconvert_exporter": "python",
   "pygments_lexer": "ipython3",
   "version": "3.12.3"
  }
 },
 "nbformat": 4,
 "nbformat_minor": 5
}
