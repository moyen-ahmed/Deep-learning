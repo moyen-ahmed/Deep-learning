{
 "cells": [
  {
   "cell_type": "code",
   "execution_count": 2,
   "id": "45205988",
   "metadata": {},
   "outputs": [],
   "source": [
    "import torch\n",
    "import numpy as np\n",
    "\n",
    "import matplotlib.pyplot as plt"
   ]
  },
  {
   "cell_type": "code",
   "execution_count": 4,
   "id": "7bae02f3",
   "metadata": {},
   "outputs": [
    {
     "name": "stdout",
     "output_type": "stream",
     "text": [
      "(13,)\n",
      "(13, 1)\n"
     ]
    }
   ],
   "source": [
    "Age_of_students = [18,19,20,21,22,23,24,25,26,27,28,29,30]\n",
    "age_of_students = np.array(Age_of_students)\n",
    "print(age_of_students.shape)\n",
    "age_of_students_b=np.expand_dims(age_of_students,1)\n",
    "print(age_of_students_b.shape)"
   ]
  },
  {
   "cell_type": "code",
   "execution_count": 6,
   "id": "316ae348",
   "metadata": {},
   "outputs": [
    {
     "name": "stdout",
     "output_type": "stream",
     "text": [
      "['18' '19' '20' '21' '22' '23' '24' '25' '26' '27' '28' '29' '30' 'Abc'\n",
      " 'Def' 'Ghi' 'Jkl' 'Mno' 'Pqr' 'Stu' 'Vwx' 'Yza' 'Bcd' 'Efg' 'Hij' 'Klm']\n"
     ]
    }
   ],
   "source": [
    "Age_of_students = [18,19,20,21,22,23,24,25,26,27,28,29,30]\n",
    "Name_of_students = ['Abc','Def','Ghi','Jkl','Mno','Pqr','Stu','Vwx','Yza','Bcd','Efg','Hij','Klm']\n",
    "database=np.concatenate([Age_of_students,Name_of_students])\n",
    "print(database)"
   ]
  },
  {
   "cell_type": "code",
   "execution_count": null,
   "id": "7b0aea2e",
   "metadata": {},
   "outputs": [],
   "source": []
  }
 ],
 "metadata": {
  "kernelspec": {
   "display_name": "base",
   "language": "python",
   "name": "python3"
  },
  "language_info": {
   "codemirror_mode": {
    "name": "ipython",
    "version": 3
   },
   "file_extension": ".py",
   "mimetype": "text/x-python",
   "name": "python",
   "nbconvert_exporter": "python",
   "pygments_lexer": "ipython3",
   "version": "3.12.3"
  }
 },
 "nbformat": 4,
 "nbformat_minor": 5
}
