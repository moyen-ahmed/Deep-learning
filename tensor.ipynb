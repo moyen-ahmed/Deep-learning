{
 "cells": [
  {
   "cell_type": "code",
   "execution_count": 1,
   "id": "ced0b3b6",
   "metadata": {},
   "outputs": [],
   "source": [
    "import tensorflow as tf\n",
    "import numpy as np\n",
    "\n",
    "\n",
    "\n",
    "\n"
   ]
  },
  {
   "cell_type": "code",
   "execution_count": 2,
   "id": "b21e38a5",
   "metadata": {},
   "outputs": [
    {
     "name": "stdout",
     "output_type": "stream",
     "text": [
      "tf.Tensor(4, shape=(), dtype=int32)\n"
     ]
    }
   ],
   "source": [
    "# this will be an int32 tensor by default ; see \"dtpes\" below\n",
    "rank_0_tensor = tf.constant(4)\n",
    "print(rank_0_tensor)"
   ]
  },
  {
   "cell_type": "code",
   "execution_count": 3,
   "id": "515c817d",
   "metadata": {},
   "outputs": [
    {
     "name": "stdout",
     "output_type": "stream",
     "text": [
      "tf.Tensor([1. 2. 3.], shape=(3,), dtype=float32)\n"
     ]
    }
   ],
   "source": [
    "rank_1_tensor=tf.constant([1.0,2.0,3.0])\n",
    "print(rank_1_tensor)"
   ]
  },
  {
   "cell_type": "code",
   "execution_count": 4,
   "id": "2f6f54dd",
   "metadata": {},
   "outputs": [
    {
     "name": "stdout",
     "output_type": "stream",
     "text": [
      "tf.Tensor(\n",
      "[[1 2 3]\n",
      " [4 5 6]\n",
      " [7 8 9]], shape=(3, 3), dtype=int32)\n"
     ]
    }
   ],
   "source": [
    "rank_2_tensor=tf.constant([[1,2,3],[4,5,6],[7,8,9]])\n",
    "print(rank_2_tensor)"
   ]
  },
  {
   "cell_type": "code",
   "execution_count": 5,
   "id": "bb96b50c",
   "metadata": {},
   "outputs": [
    {
     "name": "stdout",
     "output_type": "stream",
     "text": [
      "tf.Tensor(\n",
      "[[[1 2 3 3 4]\n",
      "  [4 5 6 6 6]]\n",
      "\n",
      " [[4 5 6 6 6]\n",
      "  [4 5 6 6 6]]\n",
      "\n",
      " [[4 5 6 6 6]\n",
      "  [4 5 6 6 6]]], shape=(3, 2, 5), dtype=int32)\n"
     ]
    }
   ],
   "source": [
    "#There can be arbitrary number of dimensions\n",
    "rank_3_tensor=tf.constant([[[1,2,3,3,4],[4,5,6,6,6]],[[4,5,6,6,6],[4,5,6,6,6]],[[4,5,6,6,6],[4,5,6,6,6]]])\n",
    "print(rank_3_tensor)"
   ]
  },
  {
   "cell_type": "markdown",
   "id": "2e7d2f36",
   "metadata": {},
   "source": [
    "![Alt text](p.png)\n"
   ]
  },
  {
   "cell_type": "code",
   "execution_count": 6,
   "id": "9546dd45",
   "metadata": {},
   "outputs": [
    {
     "data": {
      "text/plain": [
       "array([[1, 2, 3],\n",
       "       [4, 5, 6],\n",
       "       [7, 8, 9]])"
      ]
     },
     "execution_count": 6,
     "metadata": {},
     "output_type": "execute_result"
    }
   ],
   "source": [
    "np.array(rank_2_tensor)"
   ]
  },
  {
   "cell_type": "code",
   "execution_count": 7,
   "id": "3fa33943",
   "metadata": {},
   "outputs": [
    {
     "name": "stdout",
     "output_type": "stream",
     "text": [
      "tf.Tensor(\n",
      "[[1. 1. 1. 1.]\n",
      " [1. 1. 1. 1.]\n",
      " [1. 1. 1. 1.]], shape=(3, 4), dtype=float32)\n"
     ]
    }
   ],
   "source": [
    "var1=tf.ones([3,4])\n",
    "print(var1)\n"
   ]
  },
  {
   "cell_type": "code",
   "execution_count": 8,
   "id": "d95ad70d",
   "metadata": {},
   "outputs": [
    {
     "name": "stdout",
     "output_type": "stream",
     "text": [
      "tf.Tensor(\n",
      "[[[0. 0. 0. 0.]\n",
      "  [0. 0. 0. 0.]\n",
      "  [0. 0. 0. 0.]]\n",
      "\n",
      " [[0. 0. 0. 0.]\n",
      "  [0. 0. 0. 0.]\n",
      "  [0. 0. 0. 0.]]], shape=(2, 3, 4), dtype=float32)\n"
     ]
    }
   ],
   "source": [
    "var2=tf.zeros([2,3,4])\n",
    "print(var2)"
   ]
  },
  {
   "cell_type": "code",
   "execution_count": 9,
   "id": "38c394bb",
   "metadata": {},
   "outputs": [
    {
     "name": "stdout",
     "output_type": "stream",
     "text": [
      "tf.Tensor(\n",
      "[[ 6  8]\n",
      " [10 12]], shape=(2, 2), dtype=int32)\n",
      "tf.Tensor(\n",
      "[[ 6  8]\n",
      " [10 12]], shape=(2, 2), dtype=int32)\n",
      "tf.Tensor(\n",
      "[[ 5 12]\n",
      " [21 32]], shape=(2, 2), dtype=int32)\n",
      "tf.Tensor(\n",
      "[[ 5 12]\n",
      " [21 32]], shape=(2, 2), dtype=int32)\n",
      "tf.Tensor(\n",
      "[[19 22]\n",
      " [43 50]], shape=(2, 2), dtype=int32)\n"
     ]
    }
   ],
   "source": [
    "a=tf.constant([[1,2],[3,4]])\n",
    "b=tf.constant([[5,6],[7,8]])\n",
    "print(a+b)\n",
    "print(tf.add(a,b))\n",
    "print(a*b)\n",
    "print(tf.multiply(a,b))\n",
    "print(tf.matmul(a,b))  #matrix multiplication\n",
    "\n"
   ]
  },
  {
   "cell_type": "code",
   "execution_count": 10,
   "id": "c9e8d5bf",
   "metadata": {},
   "outputs": [
    {
     "name": "stdout",
     "output_type": "stream",
     "text": [
      "tf.Tensor(22.0, shape=(), dtype=float32)\n"
     ]
    },
    {
     "name": "stdout",
     "output_type": "stream",
     "text": [
      "tf.Tensor(5.5, shape=(), dtype=float32)\n",
      "tf.Tensor(7.0, shape=(), dtype=float32)\n",
      "tf.Tensor(4.0, shape=(), dtype=float32)\n",
      "tf.Tensor([1 1], shape=(2,), dtype=int64)\n",
      "tf.Tensor([0 0], shape=(2,), dtype=int64)\n",
      "tf.Tensor(\n",
      "[[0.26894143 0.73105854]\n",
      " [0.26894143 0.73105854]], shape=(2, 2), dtype=float32)\n"
     ]
    }
   ],
   "source": [
    "c=tf.constant([[4.0,5.0],[6.0,7.0]])\n",
    "\n",
    "print(tf.reduce_sum(c))\n",
    "print(tf.reduce_mean(c))\n",
    "print(tf.reduce_max(c))\n",
    "print(tf.reduce_min(c))\n",
    "print(tf.argmax(c))\n",
    "print(tf.argmin(c))\n",
    "print(tf.nn.softmax(c))\n"
   ]
  },
  {
   "cell_type": "code",
   "execution_count": 11,
   "id": "111eab99",
   "metadata": {},
   "outputs": [
    {
     "data": {
      "text/plain": [
       "<tf.Tensor: shape=(3,), dtype=int32, numpy=array([1, 2, 4])>"
      ]
     },
     "execution_count": 11,
     "metadata": {},
     "output_type": "execute_result"
    }
   ],
   "source": [
    "tf.convert_to_tensor([1,2,4])\n"
   ]
  },
  {
   "cell_type": "code",
   "execution_count": 12,
   "id": "cb7adac5",
   "metadata": {},
   "outputs": [
    {
     "name": "stdout",
     "output_type": "stream",
     "text": [
      "tf.Tensor(\n",
      "[[[[0. 0. 0. 0. 0.]\n",
      "   [0. 0. 0. 0. 0.]\n",
      "   [0. 0. 0. 0. 0.]\n",
      "   [0. 0. 0. 0. 0.]]\n",
      "\n",
      "  [[0. 0. 0. 0. 0.]\n",
      "   [0. 0. 0. 0. 0.]\n",
      "   [0. 0. 0. 0. 0.]\n",
      "   [0. 0. 0. 0. 0.]]\n",
      "\n",
      "  [[0. 0. 0. 0. 0.]\n",
      "   [0. 0. 0. 0. 0.]\n",
      "   [0. 0. 0. 0. 0.]\n",
      "   [0. 0. 0. 0. 0.]]]\n",
      "\n",
      "\n",
      " [[[0. 0. 0. 0. 0.]\n",
      "   [0. 0. 0. 0. 0.]\n",
      "   [0. 0. 0. 0. 0.]\n",
      "   [0. 0. 0. 0. 0.]]\n",
      "\n",
      "  [[0. 0. 0. 0. 0.]\n",
      "   [0. 0. 0. 0. 0.]\n",
      "   [0. 0. 0. 0. 0.]\n",
      "   [0. 0. 0. 0. 0.]]\n",
      "\n",
      "  [[0. 0. 0. 0. 0.]\n",
      "   [0. 0. 0. 0. 0.]\n",
      "   [0. 0. 0. 0. 0.]\n",
      "   [0. 0. 0. 0. 0.]]]], shape=(2, 3, 4, 5), dtype=float32)\n"
     ]
    }
   ],
   "source": [
    "rank_4_tensor=tf.zeros([2,3,4,5])\n",
    "print(rank_4_tensor)"
   ]
  },
  {
   "cell_type": "code",
   "execution_count": 13,
   "id": "f7d603dd",
   "metadata": {},
   "outputs": [
    {
     "name": "stdout",
     "output_type": "stream",
     "text": [
      "Type of every element: <dtype: 'float32'>\n",
      "Number of axis: 4\n",
      "Shape of tensor: (2, 3, 4, 5)\n",
      "Elements along axis 0: 2\n",
      "Elements along last axis: 5\n",
      "Total number of elements: 120\n"
     ]
    }
   ],
   "source": [
    "print(\"Type of every element:\", rank_4_tensor.dtype)\n",
    "print(\"Number of axis:\", rank_4_tensor.ndim)\n",
    "print(\"Shape of tensor:\", rank_4_tensor.shape)\n",
    "print(\"Elements along axis 0:\", rank_4_tensor.shape[0])\n",
    "print(\"Elements along last axis:\", rank_4_tensor.shape[-1])\n",
    "print(\"Total number of elements:\", tf.size(rank_4_tensor).numpy())"
   ]
  },
  {
   "cell_type": "markdown",
   "id": "7fb999a4",
   "metadata": {},
   "source": [
    "![Alt text](p1.png)"
   ]
  },
  {
   "cell_type": "markdown",
   "id": "ba31c3ec",
   "metadata": {},
   "source": [
    "# indexing"
   ]
  },
  {
   "cell_type": "code",
   "execution_count": 14,
   "id": "155fc5f0",
   "metadata": {},
   "outputs": [
    {
     "name": "stdout",
     "output_type": "stream",
     "text": [
      "tf.Tensor([0 1 2 3 4 5 6 7 8 9], shape=(10,), dtype=int32)\n",
      "[0 1 2 3 4 5 6 7 8 9]\n"
     ]
    }
   ],
   "source": [
    "rank_1_tensor=tf.constant([0,1,2,3,4,5,6,7,8,9])\n",
    "print(rank_1_tensor)\n",
    "print(rank_1_tensor.numpy())"
   ]
  },
  {
   "cell_type": "markdown",
   "id": "edb4d85f",
   "metadata": {},
   "source": [
    "# sliching"
   ]
  },
  {
   "cell_type": "code",
   "execution_count": 15,
   "id": "460edbb5",
   "metadata": {},
   "outputs": [
    {
     "name": "stdout",
     "output_type": "stream",
     "text": [
      "Every element: [0 1 2 3 4 5 6 7 8 9]\n",
      "First 5 elements: [0 1 2 3 4]\n",
      "Elements from index 5: [5 6 7 8 9]\n",
      "Elements from index 2 to 5: [2 3 4]\n",
      "Elements from index 1 to 7 with step 2: [1 3 5]\n",
      "Last element: 9\n",
      "Last 3 elements: [7 8 9]\n",
      "Reversed: [9 8 7 6 5 4 3 2 1 0]\n",
      "Before 4th element: [0 1 2 3]\n",
      "From 4th element: [4 5 6 7 8 9]\n",
      "Every other element: [0 2 4 6 8]\n"
     ]
    }
   ],
   "source": [
    "# slicing concept\n",
    "print (\"Every element:\", rank_1_tensor[:].numpy())\n",
    "print (\"First 5 elements:\", rank_1_tensor[:5].numpy())\n",
    "print (\"Elements from index 5:\", rank_1_tensor[5:].numpy())\n",
    "print (\"Elements from index 2 to 5:\", rank_1_tensor[2:5].numpy())\n",
    "print (\"Elements from index 1 to 7 with step 2:\", rank_1_tensor[1:7:2].numpy())\n",
    "print (\"Last element:\", rank_1_tensor[-1].numpy())\n",
    "print (\"Last 3 elements:\", rank_1_tensor[-3:].numpy())\n",
    "print (\"Reversed:\", rank_1_tensor[::-1].numpy())\n",
    "print(\"Before 4th element:\", rank_1_tensor[:4].numpy())\n",
    "print(\"From 4th element:\", rank_1_tensor[4:].numpy())\n",
    "print(\"Every other element:\", rank_1_tensor[::2].numpy())"
   ]
  },
  {
   "cell_type": "markdown",
   "id": "9ca262ac",
   "metadata": {},
   "source": [
    "# Manipulating Shapes"
   ]
  },
  {
   "cell_type": "code",
   "execution_count": 16,
   "id": "1590d5dd",
   "metadata": {},
   "outputs": [
    {
     "name": "stdout",
     "output_type": "stream",
     "text": [
      "tf.Tensor(\n",
      "[[1]\n",
      " [2]\n",
      " [3]], shape=(3, 1), dtype=int32)\n",
      "(3, 1)\n"
     ]
    }
   ],
   "source": [
    "# Shape returns a 'TensorShape' object that shows the size of alonng exis\n",
    "x=tf.constant([[1],[2],[3]])\n",
    "print(x)\n",
    "print(x.shape)"
   ]
  },
  {
   "cell_type": "code",
   "execution_count": 17,
   "id": "98da3a4c",
   "metadata": {},
   "outputs": [
    {
     "name": "stdout",
     "output_type": "stream",
     "text": [
      "tf.Tensor([1 2 3 3 4 4 5 6 6 6 4 5 6 6 6 4 5 6 6 6 4 5 6 6 6 4 5 6 6 6], shape=(30,), dtype=int32)\n"
     ]
    }
   ],
   "source": [
    "print(tf.reshape(rank_3_tensor,[-1]))#flattening\n"
   ]
  },
  {
   "cell_type": "code",
   "execution_count": 18,
   "id": "27fe8088",
   "metadata": {},
   "outputs": [
    {
     "name": "stdout",
     "output_type": "stream",
     "text": [
      "tf.Tensor(\n",
      "[[1 2 3 3 4]\n",
      " [4 5 6 6 6]\n",
      " [4 5 6 6 6]\n",
      " [4 5 6 6 6]\n",
      " [4 5 6 6 6]\n",
      " [4 5 6 6 6]], shape=(6, 5), dtype=int32)\n",
      "tf.Tensor(\n",
      "[[1 2 3 3 4 4 5 6 6 6]\n",
      " [4 5 6 6 6 4 5 6 6 6]\n",
      " [4 5 6 6 6 4 5 6 6 6]], shape=(3, 10), dtype=int32)\n"
     ]
    }
   ],
   "source": [
    "print(tf.reshape(rank_3_tensor,[6,5]))#reshaping to 2D tensor\n",
    "print(tf.reshape (rank_3_tensor,[3,-1]))#reshaping to 3D tensor"
   ]
  },
  {
   "cell_type": "code",
   "execution_count": 21,
   "id": "0862dbbb",
   "metadata": {},
   "outputs": [
    {
     "name": "stdout",
     "output_type": "stream",
     "text": [
      "tf.Tensor(\n",
      "[[1 2 3 3 4 4]\n",
      " [5 6 6 6 4 5]\n",
      " [6 6 6 4 5 6]\n",
      " [6 6 4 5 6 6]\n",
      " [6 4 5 6 6 6]], shape=(5, 6), dtype=int32)\n",
      "{{function_node __wrapped__Reshape_device_/job:localhost/replica:0/task:0/device:CPU:0}} Input to reshape is a tensor with 30 values, but the requested shape has 32 [Op:Reshape]\n"
     ]
    }
   ],
   "source": [
    "# bad examplez:dont do this\n",
    "# YOU CANT REORERTHE ELEMENTS WHILE RESHAPING\n",
    "print(tf.reshape(rank_3_tensor,[5,6]))#reshaping to 2D tensor\n",
    "try:\n",
    "    print(tf.reshape (rank_3_tensor,[8,4]))#reshaping to 3D tensor\n",
    "except Exception as e:\n",
    "    print(e)    \n",
    "# YOU CANT REORERTHE ELEMENTS WHILE RESHAPING\n",
    "\n",
    "\n"
   ]
  },
  {
   "cell_type": "markdown",
   "id": "3f4deba1",
   "metadata": {},
   "source": [
    "# MORE ON DTYPES"
   ]
  },
  {
   "cell_type": "code",
   "execution_count": 22,
   "id": "93bf498a",
   "metadata": {},
   "outputs": [
    {
     "name": "stdout",
     "output_type": "stream",
     "text": [
      "tf.Tensor([1. 2. 3.], shape=(3,), dtype=float64)\n",
      "tf.Tensor([1. 2. 3.], shape=(3,), dtype=float16)\n",
      "tf.Tensor([1 2 3], shape=(3,), dtype=uint8)\n"
     ]
    }
   ],
   "source": [
    "the_f64_tensor=tf.constant([1.0,2.0,3.0],dtype=tf.float64)\n",
    "print(the_f64_tensor)\n",
    "the_f16_tensor=tf.cast(the_f64_tensor,dtype=tf.float16)\n",
    "print(the_f16_tensor)\n",
    "the_u8_tensor=tf.cast(the_f16_tensor,dtype=tf.uint8)\n",
    "print(the_u8_tensor)\n"
   ]
  },
  {
   "cell_type": "markdown",
   "id": "4f1eb726",
   "metadata": {},
   "source": [
    "# Broadcasting\n",
    "In TensorFlow, broadcasting refers to the ability of tensors with different shapes to be automatically expanded to have compatible shapes during arithmetic operations. This allows operations to be performed element-wise without explicitly reshaping the tensors.\n",
    "\n",
    "Rules for Broadcasting:\n",
    "Dimensions must be equal or one of them must be 1:\n",
    "If the dimensions of two tensors are not the same, TensorFlow will try to match them by \"stretching\" dimensions with size 1 to match the other tensor's size.\n",
    "Alignment starts from the rightmost dimensions:\n",
    "TensorFlow compares dimensions from the rightmost side and applies broadcasting rules."
   ]
  },
  {
   "cell_type": "code",
   "execution_count": null,
   "id": "155a1bf9",
   "metadata": {},
   "outputs": [],
   "source": [
    "import tensorflow as tf\n",
    "\n",
    "# Tensor with shape (3, 1)\n",
    "a = tf.constant([[1], [2], [3]])\n",
    "\n",
    "# Tensor with shape (1, 4)\n",
    "b = tf.constant([[1, 2, 3, 4]])\n",
    "\n",
    "# Broadcasting allows element-wise addition\n",
    "result = a + b\n",
    "print(result)"
   ]
  },
  {
   "cell_type": "code",
   "execution_count": 23,
   "id": "d0c6e697",
   "metadata": {},
   "outputs": [
    {
     "name": "stdout",
     "output_type": "stream",
     "text": [
      "tf.Tensor(\n",
      "[[2 3 4 5]\n",
      " [3 4 5 6]\n",
      " [4 5 6 7]], shape=(3, 4), dtype=int32)\n"
     ]
    }
   ],
   "source": [
    "import tensorflow as tf\n",
    "\n",
    "# Tensor with shape (3, 1)\n",
    "a = tf.constant([[1], [2], [3]])\n",
    "\n",
    "# Tensor with shape (1, 4)\n",
    "b = tf.constant([[1, 2, 3, 4]])\n",
    "\n",
    "# Broadcasting allows element-wise addition\n",
    "result = a + b\n",
    "print(result)"
   ]
  },
  {
   "cell_type": "markdown",
   "id": "bb034008",
   "metadata": {},
   "source": [
    "# Ragged Tensor\n",
    "A Ragged Tensor in TensorFlow is a tensor with variable-length dimensions, meaning that the rows (or other dimensions) can have different lengths. This is useful for representing data like sequences, where each sequence may have a different number of elements.\n",
    "\n",
    "Key Features of Ragged Tensors:\n",
    "They allow for efficient storage and processing of non-uniform data.\n",
    "They are represented using tf.ragged.RaggedTensor."
   ]
  },
  {
   "cell_type": "code",
   "execution_count": 30,
   "id": "ab034a02",
   "metadata": {},
   "outputs": [],
   "source": [
    "ragged_list = ([\n",
    "    [1, 2, 3],\n",
    "    [4, 5], \n",
    "    [6], \n",
    "    [7, 8, 9, 10]])\n"
   ]
  },
  {
   "cell_type": "code",
   "execution_count": 32,
   "id": "90ec5060",
   "metadata": {},
   "outputs": [
    {
     "name": "stdout",
     "output_type": "stream",
     "text": [
      "<tf.RaggedTensor [[1, 2, 3], [4, 5], [6], [7, 8, 9, 10]]>\n"
     ]
    }
   ],
   "source": [
    "ragged_tensor =tf.ragged.constant(ragged_list)\n",
    "print(ragged_tensor)"
   ]
  },
  {
   "cell_type": "markdown",
   "id": "44a7a8d5",
   "metadata": {},
   "source": [
    "# string tensor\n",
    "A string tensor in TensorFlow is a tensor that holds string data. Unlike numerical tensors, string tensors can store variable-length strings, making them useful for handling text data, categorical data, or any other non-numeric information.\n",
    "\n",
    "Key Features of String Tensors:\n",
    "Variable Length: Strings in a tensor can have different lengths.\n",
    "Immutable: Like all tensors in TensorFlow, string tensors are immutable, meaning their values cannot be changed after creation.\n",
    "Supported Operations: TensorFlow provides various operations for string manipulation, such as splitting, joining, and formatting.\n",
    "Creating a String Tensor:\n",
    "You can create a string tensor using tf.constant:"
   ]
  }
 ],
 "metadata": {
  "kernelspec": {
   "display_name": "base",
   "language": "python",
   "name": "python3"
  },
  "language_info": {
   "codemirror_mode": {
    "name": "ipython",
    "version": 3
   },
   "file_extension": ".py",
   "mimetype": "text/x-python",
   "name": "python",
   "nbconvert_exporter": "python",
   "pygments_lexer": "ipython3",
   "version": "3.12.3"
  }
 },
 "nbformat": 4,
 "nbformat_minor": 5
}
