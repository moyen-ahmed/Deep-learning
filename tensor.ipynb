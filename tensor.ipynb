{
 "cells": [
  {
   "cell_type": "code",
   "execution_count": 3,
   "id": "ced0b3b6",
   "metadata": {},
   "outputs": [],
   "source": [
    "import tensorflow as tf\n",
    "import numpy as np\n",
    "\n",
    "\n",
    "\n",
    "\n"
   ]
  },
  {
   "cell_type": "code",
   "execution_count": 4,
   "id": "b21e38a5",
   "metadata": {},
   "outputs": [
    {
     "name": "stdout",
     "output_type": "stream",
     "text": [
      "tf.Tensor(4, shape=(), dtype=int32)\n"
     ]
    }
   ],
   "source": [
    "# this will be an int32 tensor by default ; see \"dtpes\" below\n",
    "rank_0_tensor = tf.constant(4)\n",
    "print(rank_0_tensor)"
   ]
  },
  {
   "cell_type": "code",
   "execution_count": 5,
   "id": "515c817d",
   "metadata": {},
   "outputs": [
    {
     "name": "stdout",
     "output_type": "stream",
     "text": [
      "tf.Tensor([1. 2. 3.], shape=(3,), dtype=float32)\n"
     ]
    }
   ],
   "source": [
    "rank_1_tensor=tf.constant([1.0,2.0,3.0])\n",
    "print(rank_1_tensor)"
   ]
  },
  {
   "cell_type": "code",
   "execution_count": 6,
   "id": "2f6f54dd",
   "metadata": {},
   "outputs": [
    {
     "name": "stdout",
     "output_type": "stream",
     "text": [
      "tf.Tensor(\n",
      "[[1 2 3]\n",
      " [4 5 6]\n",
      " [7 8 9]], shape=(3, 3), dtype=int32)\n"
     ]
    }
   ],
   "source": [
    "rank_2_tensor=tf.constant([[1,2,3],[4,5,6],[7,8,9]])\n",
    "print(rank_2_tensor)"
   ]
  },
  {
   "cell_type": "code",
   "execution_count": 7,
   "id": "bb96b50c",
   "metadata": {},
   "outputs": [
    {
     "name": "stdout",
     "output_type": "stream",
     "text": [
      "tf.Tensor(\n",
      "[[[1 2 3 3 4]\n",
      "  [4 5 6 6 6]]\n",
      "\n",
      " [[4 5 6 6 6]\n",
      "  [4 5 6 6 6]]\n",
      "\n",
      " [[4 5 6 6 6]\n",
      "  [4 5 6 6 6]]], shape=(3, 2, 5), dtype=int32)\n"
     ]
    }
   ],
   "source": [
    "#There can be arbitrary number of dimensions\n",
    "rank_3_tensor=tf.constant([[[1,2,3,3,4],[4,5,6,6,6]],[[4,5,6,6,6],[4,5,6,6,6]],[[4,5,6,6,6],[4,5,6,6,6]]])\n",
    "print(rank_3_tensor)"
   ]
  },
  {
   "cell_type": "markdown",
   "id": "2e7d2f36",
   "metadata": {},
   "source": [
    "![Alt text](p.png)\n"
   ]
  },
  {
   "cell_type": "code",
   "execution_count": 8,
   "id": "9546dd45",
   "metadata": {},
   "outputs": [
    {
     "data": {
      "text/plain": [
       "array([[1, 2, 3],\n",
       "       [4, 5, 6],\n",
       "       [7, 8, 9]])"
      ]
     },
     "execution_count": 8,
     "metadata": {},
     "output_type": "execute_result"
    }
   ],
   "source": [
    "np.array(rank_2_tensor)"
   ]
  },
  {
   "cell_type": "code",
   "execution_count": 9,
   "id": "3fa33943",
   "metadata": {},
   "outputs": [
    {
     "name": "stdout",
     "output_type": "stream",
     "text": [
      "tf.Tensor(\n",
      "[[1. 1. 1. 1.]\n",
      " [1. 1. 1. 1.]\n",
      " [1. 1. 1. 1.]], shape=(3, 4), dtype=float32)\n"
     ]
    }
   ],
   "source": [
    "var1=tf.ones([3,4])\n",
    "print(var1)\n"
   ]
  },
  {
   "cell_type": "code",
   "execution_count": 10,
   "id": "d95ad70d",
   "metadata": {},
   "outputs": [
    {
     "name": "stdout",
     "output_type": "stream",
     "text": [
      "tf.Tensor(\n",
      "[[[0. 0. 0. 0.]\n",
      "  [0. 0. 0. 0.]\n",
      "  [0. 0. 0. 0.]]\n",
      "\n",
      " [[0. 0. 0. 0.]\n",
      "  [0. 0. 0. 0.]\n",
      "  [0. 0. 0. 0.]]], shape=(2, 3, 4), dtype=float32)\n"
     ]
    }
   ],
   "source": [
    "var2=tf.zeros([2,3,4])\n",
    "print(var2)"
   ]
  },
  {
   "cell_type": "code",
   "execution_count": 11,
   "id": "38c394bb",
   "metadata": {},
   "outputs": [
    {
     "name": "stdout",
     "output_type": "stream",
     "text": [
      "tf.Tensor(\n",
      "[[ 6  8]\n",
      " [10 12]], shape=(2, 2), dtype=int32)\n",
      "tf.Tensor(\n",
      "[[ 6  8]\n",
      " [10 12]], shape=(2, 2), dtype=int32)\n",
      "tf.Tensor(\n",
      "[[ 5 12]\n",
      " [21 32]], shape=(2, 2), dtype=int32)\n",
      "tf.Tensor(\n",
      "[[ 5 12]\n",
      " [21 32]], shape=(2, 2), dtype=int32)\n",
      "tf.Tensor(\n",
      "[[19 22]\n",
      " [43 50]], shape=(2, 2), dtype=int32)\n"
     ]
    }
   ],
   "source": [
    "a=tf.constant([[1,2],[3,4]])\n",
    "b=tf.constant([[5,6],[7,8]])\n",
    "print(a+b)\n",
    "print(tf.add(a,b))\n",
    "print(a*b)\n",
    "print(tf.multiply(a,b))\n",
    "print(tf.matmul(a,b))  #matrix multiplication\n",
    "\n"
   ]
  },
  {
   "cell_type": "code",
   "execution_count": 12,
   "id": "c9e8d5bf",
   "metadata": {},
   "outputs": [
    {
     "name": "stdout",
     "output_type": "stream",
     "text": [
      "tf.Tensor(22.0, shape=(), dtype=float32)\n",
      "tf.Tensor(5.5, shape=(), dtype=float32)\n",
      "tf.Tensor(7.0, shape=(), dtype=float32)\n",
      "tf.Tensor(4.0, shape=(), dtype=float32)\n",
      "tf.Tensor([1 1], shape=(2,), dtype=int64)\n",
      "tf.Tensor([0 0], shape=(2,), dtype=int64)\n",
      "tf.Tensor(\n",
      "[[0.26894143 0.73105854]\n",
      " [0.26894143 0.73105854]], shape=(2, 2), dtype=float32)\n"
     ]
    }
   ],
   "source": [
    "c=tf.constant([[4.0,5.0],[6.0,7.0]])\n",
    "\n",
    "print(tf.reduce_sum(c))\n",
    "print(tf.reduce_mean(c))\n",
    "print(tf.reduce_max(c))\n",
    "print(tf.reduce_min(c))\n",
    "print(tf.argmax(c))\n",
    "print(tf.argmin(c))\n",
    "print(tf.nn.softmax(c))\n"
   ]
  },
  {
   "cell_type": "code",
   "execution_count": 13,
   "id": "111eab99",
   "metadata": {},
   "outputs": [
    {
     "data": {
      "text/plain": [
       "<tf.Tensor: shape=(3,), dtype=int32, numpy=array([1, 2, 4])>"
      ]
     },
     "execution_count": 13,
     "metadata": {},
     "output_type": "execute_result"
    }
   ],
   "source": [
    "tf.convert_to_tensor([1,2,4])\n"
   ]
  },
  {
   "cell_type": "code",
   "execution_count": 14,
   "id": "cb7adac5",
   "metadata": {},
   "outputs": [
    {
     "name": "stdout",
     "output_type": "stream",
     "text": [
      "tf.Tensor(\n",
      "[[[[0. 0. 0. 0. 0.]\n",
      "   [0. 0. 0. 0. 0.]\n",
      "   [0. 0. 0. 0. 0.]\n",
      "   [0. 0. 0. 0. 0.]]\n",
      "\n",
      "  [[0. 0. 0. 0. 0.]\n",
      "   [0. 0. 0. 0. 0.]\n",
      "   [0. 0. 0. 0. 0.]\n",
      "   [0. 0. 0. 0. 0.]]\n",
      "\n",
      "  [[0. 0. 0. 0. 0.]\n",
      "   [0. 0. 0. 0. 0.]\n",
      "   [0. 0. 0. 0. 0.]\n",
      "   [0. 0. 0. 0. 0.]]]\n",
      "\n",
      "\n",
      " [[[0. 0. 0. 0. 0.]\n",
      "   [0. 0. 0. 0. 0.]\n",
      "   [0. 0. 0. 0. 0.]\n",
      "   [0. 0. 0. 0. 0.]]\n",
      "\n",
      "  [[0. 0. 0. 0. 0.]\n",
      "   [0. 0. 0. 0. 0.]\n",
      "   [0. 0. 0. 0. 0.]\n",
      "   [0. 0. 0. 0. 0.]]\n",
      "\n",
      "  [[0. 0. 0. 0. 0.]\n",
      "   [0. 0. 0. 0. 0.]\n",
      "   [0. 0. 0. 0. 0.]\n",
      "   [0. 0. 0. 0. 0.]]]], shape=(2, 3, 4, 5), dtype=float32)\n"
     ]
    }
   ],
   "source": [
    "rank_4_tensor=tf.zeros([2,3,4,5])\n",
    "print(rank_4_tensor)"
   ]
  },
  {
   "cell_type": "code",
   "execution_count": 15,
   "id": "f7d603dd",
   "metadata": {},
   "outputs": [
    {
     "name": "stdout",
     "output_type": "stream",
     "text": [
      "Type of every element: <dtype: 'float32'>\n",
      "Number of axis: 4\n",
      "Shape of tensor: (2, 3, 4, 5)\n",
      "Elements along axis 0: 2\n",
      "Elements along last axis: 5\n",
      "Total number of elements: 120\n"
     ]
    }
   ],
   "source": [
    "print(\"Type of every element:\", rank_4_tensor.dtype)\n",
    "print(\"Number of axis:\", rank_4_tensor.ndim)\n",
    "print(\"Shape of tensor:\", rank_4_tensor.shape)\n",
    "print(\"Elements along axis 0:\", rank_4_tensor.shape[0])\n",
    "print(\"Elements along last axis:\", rank_4_tensor.shape[-1])\n",
    "print(\"Total number of elements:\", tf.size(rank_4_tensor).numpy())"
   ]
  },
  {
   "cell_type": "markdown",
   "id": "7fb999a4",
   "metadata": {},
   "source": [
    "![Alt text](p1.png)"
   ]
  },
  {
   "cell_type": "markdown",
   "id": "ba31c3ec",
   "metadata": {},
   "source": [
    "# indexing"
   ]
  },
  {
   "cell_type": "code",
   "execution_count": 16,
   "id": "155fc5f0",
   "metadata": {},
   "outputs": [
    {
     "name": "stdout",
     "output_type": "stream",
     "text": [
      "tf.Tensor([0 1 2 3 4 5 6 7 8 9], shape=(10,), dtype=int32)\n",
      "[0 1 2 3 4 5 6 7 8 9]\n"
     ]
    }
   ],
   "source": [
    "rank_1_tensor=tf.constant([0,1,2,3,4,5,6,7,8,9])\n",
    "print(rank_1_tensor)\n",
    "print(rank_1_tensor.numpy())"
   ]
  },
  {
   "cell_type": "markdown",
   "id": "edb4d85f",
   "metadata": {},
   "source": [
    "# sliching"
   ]
  },
  {
   "cell_type": "code",
   "execution_count": 18,
   "id": "460edbb5",
   "metadata": {},
   "outputs": [
    {
     "name": "stdout",
     "output_type": "stream",
     "text": [
      "Every element: [0 1 2 3 4 5 6 7 8 9]\n",
      "First 5 elements: [0 1 2 3 4]\n",
      "Elements from index 5: [5 6 7 8 9]\n",
      "Elements from index 2 to 5: [2 3 4]\n",
      "Elements from index 1 to 7 with step 2: [1 3 5]\n",
      "Last element: 9\n",
      "Last 3 elements: [7 8 9]\n",
      "Reversed: [9 8 7 6 5 4 3 2 1 0]\n",
      "Before 4th element: [0 1 2 3]\n",
      "From 4th element: [4 5 6 7 8 9]\n",
      "Every other element: [0 2 4 6 8]\n"
     ]
    }
   ],
   "source": [
    "# slicing concept\n",
    "print (\"Every element:\", rank_1_tensor[:].numpy())\n",
    "print (\"First 5 elements:\", rank_1_tensor[:5].numpy())\n",
    "print (\"Elements from index 5:\", rank_1_tensor[5:].numpy())\n",
    "print (\"Elements from index 2 to 5:\", rank_1_tensor[2:5].numpy())\n",
    "print (\"Elements from index 1 to 7 with step 2:\", rank_1_tensor[1:7:2].numpy())\n",
    "print (\"Last element:\", rank_1_tensor[-1].numpy())\n",
    "print (\"Last 3 elements:\", rank_1_tensor[-3:].numpy())\n",
    "print (\"Reversed:\", rank_1_tensor[::-1].numpy())\n",
    "print(\"Before 4th element:\", rank_1_tensor[:4].numpy())\n",
    "print(\"From 4th element:\", rank_1_tensor[4:].numpy())\n",
    "print(\"Every other element:\", rank_1_tensor[::2].numpy())"
   ]
  }
 ],
 "metadata": {
  "kernelspec": {
   "display_name": "base",
   "language": "python",
   "name": "python3"
  },
  "language_info": {
   "codemirror_mode": {
    "name": "ipython",
    "version": 3
   },
   "file_extension": ".py",
   "mimetype": "text/x-python",
   "name": "python",
   "nbconvert_exporter": "python",
   "pygments_lexer": "ipython3",
   "version": "3.12.3"
  }
 },
 "nbformat": 4,
 "nbformat_minor": 5
}
